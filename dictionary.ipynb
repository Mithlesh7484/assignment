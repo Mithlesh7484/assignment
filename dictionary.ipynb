{
 "cells": [
  {
   "cell_type": "code",
   "execution_count": 1,
   "id": "52fca2b9-11a6-4f1e-a9d5-9993794d455b",
   "metadata": {},
   "outputs": [],
   "source": [
    "d = {}"
   ]
  },
  {
   "cell_type": "code",
   "execution_count": 2,
   "id": "ebb54ebd-6114-48ee-8295-bfb75ab52b63",
   "metadata": {},
   "outputs": [
    {
     "data": {
      "text/plain": [
       "dict"
      ]
     },
     "execution_count": 2,
     "metadata": {},
     "output_type": "execute_result"
    }
   ],
   "source": [
    "type(d)"
   ]
  },
  {
   "cell_type": "code",
   "execution_count": 3,
   "id": "f0146318-42db-42d6-bfda-cc0cbe44ea68",
   "metadata": {},
   "outputs": [],
   "source": [
    "d = {123,456,'pw'}"
   ]
  },
  {
   "cell_type": "code",
   "execution_count": 4,
   "id": "84beb030-93cc-4dc2-8a8f-246c893efdb2",
   "metadata": {},
   "outputs": [
    {
     "data": {
      "text/plain": [
       "{123, 456, 'pw'}"
      ]
     },
     "execution_count": 4,
     "metadata": {},
     "output_type": "execute_result"
    }
   ],
   "source": [
    "d"
   ]
  },
  {
   "cell_type": "code",
   "execution_count": 1,
   "id": "2bba35b9-10b1-4f05-b0cc-2f33b302a90b",
   "metadata": {},
   "outputs": [],
   "source": [
    "d1 = {'key' : \"sudh\" , }"
   ]
  },
  {
   "cell_type": "code",
   "execution_count": 8,
   "id": "f825f504-874d-4c13-b286-503cd778a9fe",
   "metadata": {},
   "outputs": [
    {
     "data": {
      "text/plain": [
       "{'key': 'sudh'}"
      ]
     },
     "execution_count": 8,
     "metadata": {},
     "output_type": "execute_result"
    }
   ],
   "source": [
    "d1"
   ]
  },
  {
   "cell_type": "code",
   "execution_count": 12,
   "id": "5b0512f4-ee0f-45be-9c08-d9346bc41408",
   "metadata": {},
   "outputs": [],
   "source": [
    "d2 = {\"name\" : 'sudhanshu' ,\"email\" :'ss@gmail.com' , \"number\" : 7484962128}"
   ]
  },
  {
   "cell_type": "code",
   "execution_count": 13,
   "id": "a6a49c21-8401-43b4-807f-7f0de51c7bd7",
   "metadata": {},
   "outputs": [
    {
     "data": {
      "text/plain": [
       "{'name': 'sudhanshu', 'email': 'ss@gmail.com', 'number': 7484962128}"
      ]
     },
     "execution_count": 13,
     "metadata": {},
     "output_type": "execute_result"
    }
   ],
   "source": [
    "d2"
   ]
  },
  {
   "cell_type": "code",
   "execution_count": 15,
   "id": "cac7beac-8937-424d-b3e0-81865b444e15",
   "metadata": {},
   "outputs": [],
   "source": [
    "d3 = {234 : \"sudh\" ,\"@wer\" : \"kumar\" , True : 748598}"
   ]
  },
  {
   "cell_type": "code",
   "execution_count": 16,
   "id": "2c55f844-875e-47e8-87c3-12caf1210530",
   "metadata": {},
   "outputs": [
    {
     "data": {
      "text/plain": [
       "{234: 'sudh', '@wer': 'kumar', True: 748598}"
      ]
     },
     "execution_count": 16,
     "metadata": {},
     "output_type": "execute_result"
    }
   ],
   "source": [
    "d3"
   ]
  },
  {
   "cell_type": "code",
   "execution_count": 18,
   "id": "d9b4a29b-8f14-4f57-be36-984e587fdd50",
   "metadata": {},
   "outputs": [
    {
     "data": {
      "text/plain": [
       "'sudh'"
      ]
     },
     "execution_count": 18,
     "metadata": {},
     "output_type": "execute_result"
    }
   ],
   "source": [
    "d3[234]"
   ]
  },
  {
   "cell_type": "code",
   "execution_count": 19,
   "id": "f3d44845-ca73-43fb-a364-7d436a0f9137",
   "metadata": {},
   "outputs": [
    {
     "data": {
      "text/plain": [
       "748598"
      ]
     },
     "execution_count": 19,
     "metadata": {},
     "output_type": "execute_result"
    }
   ],
   "source": [
    "d3[True]"
   ]
  },
  {
   "cell_type": "code",
   "execution_count": 20,
   "id": "b23ef498-9aff-4460-8574-8fb1bad866b9",
   "metadata": {},
   "outputs": [
    {
     "data": {
      "text/plain": [
       "748598"
      ]
     },
     "execution_count": 20,
     "metadata": {},
     "output_type": "execute_result"
    }
   ],
   "source": [
    "d3[1]"
   ]
  },
  {
   "cell_type": "code",
   "execution_count": 21,
   "id": "086afaf1-9534-49c0-bc5a-c8aa84f01279",
   "metadata": {},
   "outputs": [],
   "source": [
    "d4 = {'name' : \"sudh\" , 'email' : \"ss@gmail.com\" , 'name' : \"sudhanshu\"}"
   ]
  },
  {
   "cell_type": "code",
   "execution_count": 23,
   "id": "8ad12f08-b53a-46f6-bca9-961274079bc6",
   "metadata": {},
   "outputs": [
    {
     "data": {
      "text/plain": [
       "'sudhanshu'"
      ]
     },
     "execution_count": 23,
     "metadata": {},
     "output_type": "execute_result"
    }
   ],
   "source": [
    "d4['name']"
   ]
  },
  {
   "cell_type": "code",
   "execution_count": 24,
   "id": "9ee3eef9-f2c6-48f8-be18-8c72091e7776",
   "metadata": {},
   "outputs": [],
   "source": [
    "d5 = {\"company\" : 'pw skills' , \"course\" :[ \"web dev\" , \"data science\" , \"java with dsa system design\"]}"
   ]
  },
  {
   "cell_type": "code",
   "execution_count": 28,
   "id": "bdfebfd6-d876-423f-b143-7eea16e7b40e",
   "metadata": {},
   "outputs": [
    {
     "data": {
      "text/plain": [
       "['web dev', 'data science', 'java with dsa system design']"
      ]
     },
     "execution_count": 28,
     "metadata": {},
     "output_type": "execute_result"
    }
   ],
   "source": [
    "d5['course']"
   ]
  },
  {
   "cell_type": "code",
   "execution_count": 29,
   "id": "b0e5ad8d-fe1b-45ef-aee2-f247abac73af",
   "metadata": {},
   "outputs": [
    {
     "data": {
      "text/plain": [
       "'java with dsa system design'"
      ]
     },
     "execution_count": 29,
     "metadata": {},
     "output_type": "execute_result"
    }
   ],
   "source": [
    "d5['course'][2]"
   ]
  },
  {
   "cell_type": "code",
   "execution_count": 30,
   "id": "78d03db2-a840-4f4b-80a7-0c243db1efeb",
   "metadata": {},
   "outputs": [],
   "source": [
    "d6 = {\"number\" : [2,34,3,34 ,34] , \"assignment\" :(1,2,3,4,5,6,) , \"launch_date\" : {28,12,15} , \"class_time\":{\"web dev\" : 8 ,\"data science\" :9 , \"java with dsa system design\" : 10}}"
   ]
  },
  {
   "cell_type": "code",
   "execution_count": 31,
   "id": "80e0b3c0-df60-41cf-9962-fcd078ccf404",
   "metadata": {},
   "outputs": [
    {
     "data": {
      "text/plain": [
       "{'number': [2, 34, 3, 34, 34],\n",
       " 'assignment': (1, 2, 3, 4, 5, 6),\n",
       " 'launch_date': {12, 15, 28},\n",
       " 'class_time': {'web dev': 8,\n",
       "  'data science': 9,\n",
       "  'java with dsa system design': 10}}"
      ]
     },
     "execution_count": 31,
     "metadata": {},
     "output_type": "execute_result"
    }
   ],
   "source": [
    "d6"
   ]
  },
  {
   "cell_type": "code",
   "execution_count": 32,
   "id": "0c4e29c1-ad61-43fd-b3e8-0b7d751b7bb2",
   "metadata": {},
   "outputs": [
    {
     "data": {
      "text/plain": [
       "{'web dev': 8, 'data science': 9, 'java with dsa system design': 10}"
      ]
     },
     "execution_count": 32,
     "metadata": {},
     "output_type": "execute_result"
    }
   ],
   "source": [
    "d6[\"class_time\"]"
   ]
  },
  {
   "cell_type": "code",
   "execution_count": 34,
   "id": "2d02055b-b603-4ea4-8685-87b1e2da0d2a",
   "metadata": {},
   "outputs": [
    {
     "data": {
      "text/plain": [
       "10"
      ]
     },
     "execution_count": 34,
     "metadata": {},
     "output_type": "execute_result"
    }
   ],
   "source": [
    "d6['class_time']['java with dsa system design']"
   ]
  },
  {
   "cell_type": "code",
   "execution_count": 35,
   "id": "9b577ff4-f540-43a4-9400-f255227e74f0",
   "metadata": {},
   "outputs": [
    {
     "data": {
      "text/plain": [
       "{'number': [2, 34, 3, 34, 34],\n",
       " 'assignment': (1, 2, 3, 4, 5, 6),\n",
       " 'launch_date': {12, 15, 28},\n",
       " 'class_time': {'web dev': 8,\n",
       "  'data science': 9,\n",
       "  'java with dsa system design': 10}}"
      ]
     },
     "execution_count": 35,
     "metadata": {},
     "output_type": "execute_result"
    }
   ],
   "source": [
    "d6"
   ]
  },
  {
   "cell_type": "code",
   "execution_count": 36,
   "id": "d5f2f467-5bc2-4767-9685-29021b5d6e19",
   "metadata": {},
   "outputs": [],
   "source": [
    "d6['mentor'] = [\"sudhanshu\" , \"anurag\" ,\"krish\" ,\"hayder\"]"
   ]
  },
  {
   "cell_type": "code",
   "execution_count": 37,
   "id": "039109b9-247e-4f3c-b1ad-9a835d02bb73",
   "metadata": {},
   "outputs": [
    {
     "data": {
      "text/plain": [
       "{'number': [2, 34, 3, 34, 34],\n",
       " 'assignment': (1, 2, 3, 4, 5, 6),\n",
       " 'launch_date': {12, 15, 28},\n",
       " 'class_time': {'web dev': 8,\n",
       "  'data science': 9,\n",
       "  'java with dsa system design': 10},\n",
       " 'mentor': ['sudhanshu', 'anurag', 'krish', 'hayder']}"
      ]
     },
     "execution_count": 37,
     "metadata": {},
     "output_type": "execute_result"
    }
   ],
   "source": [
    "d6"
   ]
  },
  {
   "cell_type": "code",
   "execution_count": 38,
   "id": "62ed0bda-33b3-479e-92c9-e00aa6c52611",
   "metadata": {},
   "outputs": [],
   "source": [
    "del d6['number']"
   ]
  },
  {
   "cell_type": "code",
   "execution_count": 39,
   "id": "ad3e96d1-0d31-4a29-84e4-4dabb01811a4",
   "metadata": {},
   "outputs": [
    {
     "data": {
      "text/plain": [
       "{'assignment': (1, 2, 3, 4, 5, 6),\n",
       " 'launch_date': {12, 15, 28},\n",
       " 'class_time': {'web dev': 8,\n",
       "  'data science': 9,\n",
       "  'java with dsa system design': 10},\n",
       " 'mentor': ['sudhanshu', 'anurag', 'krish', 'hayder']}"
      ]
     },
     "execution_count": 39,
     "metadata": {},
     "output_type": "execute_result"
    }
   ],
   "source": [
    "d6"
   ]
  },
  {
   "cell_type": "code",
   "execution_count": 40,
   "id": "9278bfd1-5d92-4e7b-aa1c-f76cbbd64f7c",
   "metadata": {},
   "outputs": [
    {
     "data": {
      "text/plain": [
       "dict_keys(['assignment', 'launch_date', 'class_time', 'mentor'])"
      ]
     },
     "execution_count": 40,
     "metadata": {},
     "output_type": "execute_result"
    }
   ],
   "source": [
    "d6.keys()"
   ]
  },
  {
   "cell_type": "code",
   "execution_count": 41,
   "id": "c7a2ddb5-8dab-4d73-86a6-f2aaca6b9b2c",
   "metadata": {},
   "outputs": [
    {
     "data": {
      "text/plain": [
       "['assignment', 'launch_date', 'class_time', 'mentor']"
      ]
     },
     "execution_count": 41,
     "metadata": {},
     "output_type": "execute_result"
    }
   ],
   "source": [
    "list(d6.keys())"
   ]
  },
  {
   "cell_type": "code",
   "execution_count": 42,
   "id": "3c1b7b8a-00b4-4b78-86f8-fe8d672dd8fb",
   "metadata": {},
   "outputs": [
    {
     "data": {
      "text/plain": [
       "{'assignment': (1, 2, 3, 4, 5, 6),\n",
       " 'launch_date': {12, 15, 28},\n",
       " 'class_time': {'web dev': 8,\n",
       "  'data science': 9,\n",
       "  'java with dsa system design': 10},\n",
       " 'mentor': ['sudhanshu', 'anurag', 'krish', 'hayder']}"
      ]
     },
     "execution_count": 42,
     "metadata": {},
     "output_type": "execute_result"
    }
   ],
   "source": [
    "d6"
   ]
  },
  {
   "cell_type": "code",
   "execution_count": 45,
   "id": "bae94597-324c-4006-91d0-99a30a2e8083",
   "metadata": {},
   "outputs": [
    {
     "data": {
      "text/plain": [
       "dict_items([('assignment', (1, 2, 3, 4, 5, 6)), ('launch_date', {28, 12, 15}), ('class_time', {'web dev': 8, 'data science': 9, 'java with dsa system design': 10}), ('mentor', ['sudhanshu', 'anurag', 'krish', 'hayder'])])"
      ]
     },
     "execution_count": 45,
     "metadata": {},
     "output_type": "execute_result"
    }
   ],
   "source": [
    "(d6.items())"
   ]
  },
  {
   "cell_type": "markdown",
   "id": "a8c076a3-4e87-47ac-8ebd-40ce9de559b8",
   "metadata": {},
   "source": [
    "list(d6.keys())"
   ]
  },
  {
   "cell_type": "code",
   "execution_count": 48,
   "id": "9ecd02e8-25e5-4f1a-9729-c503acc294f8",
   "metadata": {},
   "outputs": [
    {
     "data": {
      "text/plain": [
       "(1, 2, 3, 4, 5, 6)"
      ]
     },
     "execution_count": 48,
     "metadata": {},
     "output_type": "execute_result"
    }
   ],
   "source": [
    "d6.pop('assignment')"
   ]
  },
  {
   "cell_type": "code",
   "execution_count": 1,
   "id": "cc5bd117-70d3-4cc4-968f-65d41b438fcc",
   "metadata": {},
   "outputs": [
    {
     "ename": "NameError",
     "evalue": "name 'd1' is not defined",
     "output_type": "error",
     "traceback": [
      "\u001b[0;31m---------------------------------------------------------------------------\u001b[0m",
      "\u001b[0;31mNameError\u001b[0m                                 Traceback (most recent call last)",
      "Cell \u001b[0;32mIn[1], line 1\u001b[0m\n\u001b[0;32m----> 1\u001b[0m \u001b[43md1\u001b[49m\n",
      "\u001b[0;31mNameError\u001b[0m: name 'd1' is not defined"
     ]
    }
   ],
   "source": [
    "d1"
   ]
  },
  {
   "cell_type": "code",
   "execution_count": null,
   "id": "ba6c9d31-3cca-4c53-bc78-ed888dd6328b",
   "metadata": {},
   "outputs": [],
   "source": []
  }
 ],
 "metadata": {
  "kernelspec": {
   "display_name": "Python 3 (ipykernel)",
   "language": "python",
   "name": "python3"
  },
  "language_info": {
   "codemirror_mode": {
    "name": "ipython",
    "version": 3
   },
   "file_extension": ".py",
   "mimetype": "text/x-python",
   "name": "python",
   "nbconvert_exporter": "python",
   "pygments_lexer": "ipython3",
   "version": "3.10.8"
  }
 },
 "nbformat": 4,
 "nbformat_minor": 5
}
